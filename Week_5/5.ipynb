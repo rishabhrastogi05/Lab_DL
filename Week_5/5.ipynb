{
  "nbformat": 4,
  "nbformat_minor": 0,
  "metadata": {
    "colab": {
      "name": "200968146_DL_Week5.ipynb",
      "provenance": [],
      "collapsed_sections": [],
      "authorship_tag": "ABX9TyM65nXN66DiVH501pkUUxPK",
      "include_colab_link": true
    },
    "kernelspec": {
      "name": "python3",
      "display_name": "Python 3"
    },
    "language_info": {
      "name": "python"
    }
  },
  "cells": [
    {
      "cell_type": "markdown",
      "metadata": {
        "id": "view-in-github",
        "colab_type": "text"
      },
      "source": [
        "<a href=\"https://colab.research.google.com/github/manvendra-07/DL-Lab/blob/main/Week%205/200968146_DL_Week5.ipynb\" target=\"_parent\"><img src=\"https://colab.research.google.com/assets/colab-badge.svg\" alt=\"Open In Colab\"/></a>"
      ]
    },
    {
      "cell_type": "markdown",
      "source": [
        "## Importing the required libraries"
      ],
      "metadata": {
        "id": "heUBYQFtUJ9N"
      }
    },
    {
      "cell_type": "code",
      "execution_count": 1,
      "metadata": {
        "id": "cdEiW_0gu2B0"
      },
      "outputs": [],
      "source": [
        "import tensorflow as tf\n",
        "import numpy as np\n",
        "import pandas as pd\n",
        "from matplotlib import pyplot as plt\n",
        "from sklearn.datasets import fetch_california_housing\n",
        "from sklearn.model_selection import train_test_split\n",
        "from sklearn.preprocessing import MinMaxScaler\n",
        "import seaborn as sns"
      ]
    },
    {
      "cell_type": "markdown",
      "source": [
        "## A little information about the dataset :\n",
        "\n",
        "#### The dataset used for this problem is **California Housing Dataset**\n",
        "\n",
        "- This dataset contains 8 features :\n",
        "> 1. longitude\n",
        "> 2. latitude\n",
        "> 3. housingMedianAge\n",
        "> 4. totalRooms\n",
        "> 5. totalBedrooms\n",
        "> 6. population\n",
        "> 7. households\n",
        "> 8. medianIncome\n",
        "\n",
        "- This dataset contain 1 target :\n",
        "> medianHouseValue\n",
        "\n",
        "- This dataset contain 20,640 instances\n",
        "\n",
        "\n"
      ],
      "metadata": {
        "id": "ggo9Am3V3Yj3"
      }
    },
    {
      "cell_type": "code",
      "source": [
        "housing = fetch_california_housing(as_frame=True)\n",
        "housing.frame.head()"
      ],
      "metadata": {
        "id": "KTZw4joj2lQ4",
        "colab": {
          "base_uri": "https://localhost:8080/",
          "height": 206
        },
        "outputId": "37cfe3f6-2ae9-46b7-985d-39b89a29c9de"
      },
      "execution_count": 2,
      "outputs": [
        {
          "output_type": "execute_result",
          "data": {
            "text/plain": [
              "   MedInc  HouseAge  AveRooms  AveBedrms  Population  AveOccup  Latitude  \\\n",
              "0  8.3252      41.0  6.984127   1.023810       322.0  2.555556     37.88   \n",
              "1  8.3014      21.0  6.238137   0.971880      2401.0  2.109842     37.86   \n",
              "2  7.2574      52.0  8.288136   1.073446       496.0  2.802260     37.85   \n",
              "3  5.6431      52.0  5.817352   1.073059       558.0  2.547945     37.85   \n",
              "4  3.8462      52.0  6.281853   1.081081       565.0  2.181467     37.85   \n",
              "\n",
              "   Longitude  MedHouseVal  \n",
              "0    -122.23        4.526  \n",
              "1    -122.22        3.585  \n",
              "2    -122.24        3.521  \n",
              "3    -122.25        3.413  \n",
              "4    -122.25        3.422  "
            ],
            "text/html": [
              "\n",
              "  <div id=\"df-0f622d65-c347-4067-81f4-e1682b574e6b\">\n",
              "    <div class=\"colab-df-container\">\n",
              "      <div>\n",
              "<style scoped>\n",
              "    .dataframe tbody tr th:only-of-type {\n",
              "        vertical-align: middle;\n",
              "    }\n",
              "\n",
              "    .dataframe tbody tr th {\n",
              "        vertical-align: top;\n",
              "    }\n",
              "\n",
              "    .dataframe thead th {\n",
              "        text-align: right;\n",
              "    }\n",
              "</style>\n",
              "<table border=\"1\" class=\"dataframe\">\n",
              "  <thead>\n",
              "    <tr style=\"text-align: right;\">\n",
              "      <th></th>\n",
              "      <th>MedInc</th>\n",
              "      <th>HouseAge</th>\n",
              "      <th>AveRooms</th>\n",
              "      <th>AveBedrms</th>\n",
              "      <th>Population</th>\n",
              "      <th>AveOccup</th>\n",
              "      <th>Latitude</th>\n",
              "      <th>Longitude</th>\n",
              "      <th>MedHouseVal</th>\n",
              "    </tr>\n",
              "  </thead>\n",
              "  <tbody>\n",
              "    <tr>\n",
              "      <th>0</th>\n",
              "      <td>8.3252</td>\n",
              "      <td>41.0</td>\n",
              "      <td>6.984127</td>\n",
              "      <td>1.023810</td>\n",
              "      <td>322.0</td>\n",
              "      <td>2.555556</td>\n",
              "      <td>37.88</td>\n",
              "      <td>-122.23</td>\n",
              "      <td>4.526</td>\n",
              "    </tr>\n",
              "    <tr>\n",
              "      <th>1</th>\n",
              "      <td>8.3014</td>\n",
              "      <td>21.0</td>\n",
              "      <td>6.238137</td>\n",
              "      <td>0.971880</td>\n",
              "      <td>2401.0</td>\n",
              "      <td>2.109842</td>\n",
              "      <td>37.86</td>\n",
              "      <td>-122.22</td>\n",
              "      <td>3.585</td>\n",
              "    </tr>\n",
              "    <tr>\n",
              "      <th>2</th>\n",
              "      <td>7.2574</td>\n",
              "      <td>52.0</td>\n",
              "      <td>8.288136</td>\n",
              "      <td>1.073446</td>\n",
              "      <td>496.0</td>\n",
              "      <td>2.802260</td>\n",
              "      <td>37.85</td>\n",
              "      <td>-122.24</td>\n",
              "      <td>3.521</td>\n",
              "    </tr>\n",
              "    <tr>\n",
              "      <th>3</th>\n",
              "      <td>5.6431</td>\n",
              "      <td>52.0</td>\n",
              "      <td>5.817352</td>\n",
              "      <td>1.073059</td>\n",
              "      <td>558.0</td>\n",
              "      <td>2.547945</td>\n",
              "      <td>37.85</td>\n",
              "      <td>-122.25</td>\n",
              "      <td>3.413</td>\n",
              "    </tr>\n",
              "    <tr>\n",
              "      <th>4</th>\n",
              "      <td>3.8462</td>\n",
              "      <td>52.0</td>\n",
              "      <td>6.281853</td>\n",
              "      <td>1.081081</td>\n",
              "      <td>565.0</td>\n",
              "      <td>2.181467</td>\n",
              "      <td>37.85</td>\n",
              "      <td>-122.25</td>\n",
              "      <td>3.422</td>\n",
              "    </tr>\n",
              "  </tbody>\n",
              "</table>\n",
              "</div>\n",
              "      <button class=\"colab-df-convert\" onclick=\"convertToInteractive('df-0f622d65-c347-4067-81f4-e1682b574e6b')\"\n",
              "              title=\"Convert this dataframe to an interactive table.\"\n",
              "              style=\"display:none;\">\n",
              "        \n",
              "  <svg xmlns=\"http://www.w3.org/2000/svg\" height=\"24px\"viewBox=\"0 0 24 24\"\n",
              "       width=\"24px\">\n",
              "    <path d=\"M0 0h24v24H0V0z\" fill=\"none\"/>\n",
              "    <path d=\"M18.56 5.44l.94 2.06.94-2.06 2.06-.94-2.06-.94-.94-2.06-.94 2.06-2.06.94zm-11 1L8.5 8.5l.94-2.06 2.06-.94-2.06-.94L8.5 2.5l-.94 2.06-2.06.94zm10 10l.94 2.06.94-2.06 2.06-.94-2.06-.94-.94-2.06-.94 2.06-2.06.94z\"/><path d=\"M17.41 7.96l-1.37-1.37c-.4-.4-.92-.59-1.43-.59-.52 0-1.04.2-1.43.59L10.3 9.45l-7.72 7.72c-.78.78-.78 2.05 0 2.83L4 21.41c.39.39.9.59 1.41.59.51 0 1.02-.2 1.41-.59l7.78-7.78 2.81-2.81c.8-.78.8-2.07 0-2.86zM5.41 20L4 18.59l7.72-7.72 1.47 1.35L5.41 20z\"/>\n",
              "  </svg>\n",
              "      </button>\n",
              "      \n",
              "  <style>\n",
              "    .colab-df-container {\n",
              "      display:flex;\n",
              "      flex-wrap:wrap;\n",
              "      gap: 12px;\n",
              "    }\n",
              "\n",
              "    .colab-df-convert {\n",
              "      background-color: #E8F0FE;\n",
              "      border: none;\n",
              "      border-radius: 50%;\n",
              "      cursor: pointer;\n",
              "      display: none;\n",
              "      fill: #1967D2;\n",
              "      height: 32px;\n",
              "      padding: 0 0 0 0;\n",
              "      width: 32px;\n",
              "    }\n",
              "\n",
              "    .colab-df-convert:hover {\n",
              "      background-color: #E2EBFA;\n",
              "      box-shadow: 0px 1px 2px rgba(60, 64, 67, 0.3), 0px 1px 3px 1px rgba(60, 64, 67, 0.15);\n",
              "      fill: #174EA6;\n",
              "    }\n",
              "\n",
              "    [theme=dark] .colab-df-convert {\n",
              "      background-color: #3B4455;\n",
              "      fill: #D2E3FC;\n",
              "    }\n",
              "\n",
              "    [theme=dark] .colab-df-convert:hover {\n",
              "      background-color: #434B5C;\n",
              "      box-shadow: 0px 1px 3px 1px rgba(0, 0, 0, 0.15);\n",
              "      filter: drop-shadow(0px 1px 2px rgba(0, 0, 0, 0.3));\n",
              "      fill: #FFFFFF;\n",
              "    }\n",
              "  </style>\n",
              "\n",
              "      <script>\n",
              "        const buttonEl =\n",
              "          document.querySelector('#df-0f622d65-c347-4067-81f4-e1682b574e6b button.colab-df-convert');\n",
              "        buttonEl.style.display =\n",
              "          google.colab.kernel.accessAllowed ? 'block' : 'none';\n",
              "\n",
              "        async function convertToInteractive(key) {\n",
              "          const element = document.querySelector('#df-0f622d65-c347-4067-81f4-e1682b574e6b');\n",
              "          const dataTable =\n",
              "            await google.colab.kernel.invokeFunction('convertToInteractive',\n",
              "                                                     [key], {});\n",
              "          if (!dataTable) return;\n",
              "\n",
              "          const docLinkHtml = 'Like what you see? Visit the ' +\n",
              "            '<a target=\"_blank\" href=https://colab.research.google.com/notebooks/data_table.ipynb>data table notebook</a>'\n",
              "            + ' to learn more about interactive tables.';\n",
              "          element.innerHTML = '';\n",
              "          dataTable['output_type'] = 'display_data';\n",
              "          await google.colab.output.renderOutput(dataTable, element);\n",
              "          const docLink = document.createElement('div');\n",
              "          docLink.innerHTML = docLinkHtml;\n",
              "          element.appendChild(docLink);\n",
              "        }\n",
              "      </script>\n",
              "    </div>\n",
              "  </div>\n",
              "  "
            ]
          },
          "metadata": {},
          "execution_count": 2
        }
      ]
    },
    {
      "cell_type": "code",
      "source": [
        "print(housing.DESCR)"
      ],
      "metadata": {
        "colab": {
          "base_uri": "https://localhost:8080/"
        },
        "id": "OCKWYECy6S5t",
        "outputId": "ce4a6fe6-9c27-4318-d81a-b346b3906c92"
      },
      "execution_count": 3,
      "outputs": [
        {
          "output_type": "stream",
          "name": "stdout",
          "text": [
            ".. _california_housing_dataset:\n",
            "\n",
            "California Housing dataset\n",
            "--------------------------\n",
            "\n",
            "**Data Set Characteristics:**\n",
            "\n",
            "    :Number of Instances: 20640\n",
            "\n",
            "    :Number of Attributes: 8 numeric, predictive attributes and the target\n",
            "\n",
            "    :Attribute Information:\n",
            "        - MedInc        median income in block group\n",
            "        - HouseAge      median house age in block group\n",
            "        - AveRooms      average number of rooms per household\n",
            "        - AveBedrms     average number of bedrooms per household\n",
            "        - Population    block group population\n",
            "        - AveOccup      average number of household members\n",
            "        - Latitude      block group latitude\n",
            "        - Longitude     block group longitude\n",
            "\n",
            "    :Missing Attribute Values: None\n",
            "\n",
            "This dataset was obtained from the StatLib repository.\n",
            "https://www.dcc.fc.up.pt/~ltorgo/Regression/cal_housing.html\n",
            "\n",
            "The target variable is the median house value for California districts,\n",
            "expressed in hundreds of thousands of dollars ($100,000).\n",
            "\n",
            "This dataset was derived from the 1990 U.S. census, using one row per census\n",
            "block group. A block group is the smallest geographical unit for which the U.S.\n",
            "Census Bureau publishes sample data (a block group typically has a population\n",
            "of 600 to 3,000 people).\n",
            "\n",
            "An household is a group of people residing within a home. Since the average\n",
            "number of rooms and bedrooms in this dataset are provided per household, these\n",
            "columns may take surpinsingly large values for block groups with few households\n",
            "and many empty houses, such as vacation resorts.\n",
            "\n",
            "It can be downloaded/loaded using the\n",
            ":func:`sklearn.datasets.fetch_california_housing` function.\n",
            "\n",
            ".. topic:: References\n",
            "\n",
            "    - Pace, R. Kelley and Ronald Barry, Sparse Spatial Autoregressions,\n",
            "      Statistics and Probability Letters, 33 (1997) 291-297\n",
            "\n"
          ]
        }
      ]
    },
    {
      "cell_type": "code",
      "source": [
        "Y = housing.frame['MedHouseVal']\n",
        "X = housing.frame.drop(columns = ['MedHouseVal'], axis = 1)"
      ],
      "metadata": {
        "id": "4Bkpd4Pj6hQj"
      },
      "execution_count": 4,
      "outputs": []
    },
    {
      "cell_type": "markdown",
      "source": [
        "## Function to perfrom MinMax Scaling over the data"
      ],
      "metadata": {
        "id": "jfwrB9P2yLgs"
      }
    },
    {
      "cell_type": "code",
      "source": [
        "def scaling(X, Y):\n",
        "  scaler = MinMaxScaler()\n",
        "  scaled_data = scaler.fit_transform(X, Y)\n",
        "  X = scaled_data[:,0:8]\n",
        "  Y = scaled_data[:,-1]\n",
        "  return X, Y"
      ],
      "metadata": {
        "id": "p3-t8kHk53Th"
      },
      "execution_count": 5,
      "outputs": []
    },
    {
      "cell_type": "markdown",
      "source": [
        "## Buidling 1-Hidden Layer MLP Model using Sequential API"
      ],
      "metadata": {
        "id": "BD3VoJ1TUUSs"
      }
    },
    {
      "cell_type": "code",
      "source": [
        "def MLPmodel(batch_norm):\n",
        "\n",
        "  model = tf.keras.Sequential()\n",
        "  model.add(tf.keras.layers.InputLayer(input_shape=8, name=\"Input-Layer\"))\n",
        "\n",
        "  if batch_norm is 'yes': ## Add a layer of batch normalisation to the input\n",
        "        model.add(tf.keras.layers.BatchNormalization(scale=True, name = 'Norm-1')) ## Since the next layer is not a linear layer so scaling has to be done\n",
        "\n",
        "  model.add(tf.keras.layers.Dense(30, activation='relu', name=\"Hidden-Layer-1\"))\n",
        "  model.add(tf.keras.layers.Dense(1, activation='linear', name='Output-Layer'))\n",
        "\n",
        "  model.summary()\n",
        "  model.compile(loss=\"mean_squared_error\", optimizer=tf.keras.optimizers.Adam(learning_rate = 0.0001), metrics=[tf.keras.metrics.MeanSquaredError(name = 'mse')])\n",
        "\n",
        "  return model"
      ],
      "metadata": {
        "id": "PF2hqwkuzUwm"
      },
      "execution_count": 6,
      "outputs": []
    },
    {
      "cell_type": "markdown",
      "source": [
        "## Splitting the data into Test and Train set"
      ],
      "metadata": {
        "id": "HWFT3aInUP6s"
      }
    },
    {
      "cell_type": "code",
      "source": [
        "X_train, X_test, Y_train, Y_test = train_test_split(X, Y, test_size = 0.3, random_state = 42)"
      ],
      "metadata": {
        "id": "7dbLKyOrxsc-"
      },
      "execution_count": 7,
      "outputs": []
    },
    {
      "cell_type": "markdown",
      "source": [
        "## Training and Testing the MLP Model without MinMax Scaling but using BatchNormalization"
      ],
      "metadata": {
        "id": "QCPznPJtUboT"
      }
    },
    {
      "cell_type": "code",
      "source": [
        "mlp_norm = MLPmodel(batch_norm = 'yes')\n",
        "history = mlp_norm.fit(X_train, Y_train, batch_size = 32, epochs = 20, validation_split=0.3, verbose=1)"
      ],
      "metadata": {
        "colab": {
          "base_uri": "https://localhost:8080/"
        },
        "id": "bfSEosDH6TLn",
        "outputId": "a94e4cf9-88f0-4a76-f664-a5b11dc3afec"
      },
      "execution_count": 8,
      "outputs": [
        {
          "output_type": "stream",
          "name": "stdout",
          "text": [
            "Model: \"sequential\"\n",
            "_________________________________________________________________\n",
            " Layer (type)                Output Shape              Param #   \n",
            "=================================================================\n",
            " Norm-1 (BatchNormalization)  (None, 8)                32        \n",
            "                                                                 \n",
            " Hidden-Layer-1 (Dense)      (None, 30)                270       \n",
            "                                                                 \n",
            " Output-Layer (Dense)        (None, 1)                 31        \n",
            "                                                                 \n",
            "=================================================================\n",
            "Total params: 333\n",
            "Trainable params: 317\n",
            "Non-trainable params: 16\n",
            "_________________________________________________________________\n",
            "Epoch 1/20\n",
            "317/317 [==============================] - 2s 4ms/step - loss: 3.3031 - mse: 3.3031 - val_loss: 2.4898 - val_mse: 2.4898\n",
            "Epoch 2/20\n",
            "317/317 [==============================] - 9s 30ms/step - loss: 2.1232 - mse: 2.1232 - val_loss: 2.3952 - val_mse: 2.3952\n",
            "Epoch 3/20\n",
            "317/317 [==============================] - 2s 7ms/step - loss: 1.4140 - mse: 1.4140 - val_loss: 1.7432 - val_mse: 1.7432\n",
            "Epoch 4/20\n",
            "317/317 [==============================] - 2s 6ms/step - loss: 1.0468 - mse: 1.0468 - val_loss: 1.3775 - val_mse: 1.3775\n",
            "Epoch 5/20\n",
            "317/317 [==============================] - 1s 3ms/step - loss: 0.8611 - mse: 0.8611 - val_loss: 1.2003 - val_mse: 1.2003\n",
            "Epoch 6/20\n",
            "317/317 [==============================] - 1s 3ms/step - loss: 0.7657 - mse: 0.7657 - val_loss: 0.9802 - val_mse: 0.9802\n",
            "Epoch 7/20\n",
            "317/317 [==============================] - 1s 3ms/step - loss: 0.6943 - mse: 0.6943 - val_loss: 0.8662 - val_mse: 0.8662\n",
            "Epoch 8/20\n",
            "317/317 [==============================] - 1s 2ms/step - loss: 0.6380 - mse: 0.6380 - val_loss: 0.8475 - val_mse: 0.8475\n",
            "Epoch 9/20\n",
            "317/317 [==============================] - 3s 8ms/step - loss: 0.6035 - mse: 0.6035 - val_loss: 0.8061 - val_mse: 0.8061\n",
            "Epoch 10/20\n",
            "317/317 [==============================] - 1s 2ms/step - loss: 0.5814 - mse: 0.5814 - val_loss: 0.7640 - val_mse: 0.7640\n",
            "Epoch 11/20\n",
            "317/317 [==============================] - 2s 5ms/step - loss: 0.5480 - mse: 0.5480 - val_loss: 0.7572 - val_mse: 0.7572\n",
            "Epoch 12/20\n",
            "317/317 [==============================] - 1s 2ms/step - loss: 0.5324 - mse: 0.5324 - val_loss: 0.7222 - val_mse: 0.7222\n",
            "Epoch 13/20\n",
            "317/317 [==============================] - 1s 5ms/step - loss: 0.5178 - mse: 0.5178 - val_loss: 0.6871 - val_mse: 0.6871\n",
            "Epoch 14/20\n",
            "317/317 [==============================] - 1s 3ms/step - loss: 0.5063 - mse: 0.5063 - val_loss: 0.6722 - val_mse: 0.6722\n",
            "Epoch 15/20\n",
            "317/317 [==============================] - 1s 3ms/step - loss: 0.4922 - mse: 0.4922 - val_loss: 0.6568 - val_mse: 0.6568\n",
            "Epoch 16/20\n",
            "317/317 [==============================] - 1s 3ms/step - loss: 0.4930 - mse: 0.4930 - val_loss: 0.6641 - val_mse: 0.6641\n",
            "Epoch 17/20\n",
            "317/317 [==============================] - 1s 3ms/step - loss: 0.4818 - mse: 0.4818 - val_loss: 0.6300 - val_mse: 0.6300\n",
            "Epoch 18/20\n",
            "317/317 [==============================] - 1s 3ms/step - loss: 0.4723 - mse: 0.4723 - val_loss: 0.6235 - val_mse: 0.6235\n",
            "Epoch 19/20\n",
            "317/317 [==============================] - 1s 3ms/step - loss: 0.4750 - mse: 0.4750 - val_loss: 0.6319 - val_mse: 0.6319\n",
            "Epoch 20/20\n",
            "317/317 [==============================] - 1s 2ms/step - loss: 0.4650 - mse: 0.4650 - val_loss: 0.6077 - val_mse: 0.6077\n"
          ]
        }
      ]
    },
    {
      "cell_type": "code",
      "source": [
        "mlp_norm_test = mlp_norm.evaluate(X_test, Y_test)\n",
        "mlp_norm_test"
      ],
      "metadata": {
        "colab": {
          "base_uri": "https://localhost:8080/"
        },
        "id": "JvuVn45Z6wp3",
        "outputId": "35d365e7-2c2a-4acc-d91d-682a71ed1917"
      },
      "execution_count": 9,
      "outputs": [
        {
          "output_type": "stream",
          "name": "stdout",
          "text": [
            "194/194 [==============================] - 0s 2ms/step - loss: 0.5689 - mse: 0.5689\n"
          ]
        },
        {
          "output_type": "execute_result",
          "data": {
            "text/plain": [
              "[0.5688691735267639, 0.5688691735267639]"
            ]
          },
          "metadata": {},
          "execution_count": 9
        }
      ]
    },
    {
      "cell_type": "markdown",
      "source": [
        "## Testing the MLP Model using MinMax Scaler but without BatchNormalization"
      ],
      "metadata": {
        "id": "8YDXYXjMzTJ0"
      }
    },
    {
      "cell_type": "code",
      "source": [
        "X_scaled, Y_scaled = scaling(X, Y)\n",
        "X_train, X_test, Y_train, Y_test = train_test_split(X_scaled, Y_scaled, test_size = 0.3, random_state = 42) # Spliting the data into Test and Train "
      ],
      "metadata": {
        "id": "DuetePn0xq3p"
      },
      "execution_count": 10,
      "outputs": []
    },
    {
      "cell_type": "code",
      "source": [
        "mlp = MLPmodel(batch_norm = 'no')\n",
        "mlp_history = mlp.fit(X_train, Y_train, batch_size = 32, epochs = 20, validation_split = 0.3, verbose = 1)"
      ],
      "metadata": {
        "colab": {
          "base_uri": "https://localhost:8080/"
        },
        "id": "FZmI5X67y4s_",
        "outputId": "6942160d-f482-421f-cda4-b0b3358ce644"
      },
      "execution_count": 11,
      "outputs": [
        {
          "output_type": "stream",
          "name": "stdout",
          "text": [
            "Model: \"sequential_1\"\n",
            "_________________________________________________________________\n",
            " Layer (type)                Output Shape              Param #   \n",
            "=================================================================\n",
            " Hidden-Layer-1 (Dense)      (None, 30)                270       \n",
            "                                                                 \n",
            " Output-Layer (Dense)        (None, 1)                 31        \n",
            "                                                                 \n",
            "=================================================================\n",
            "Total params: 301\n",
            "Trainable params: 301\n",
            "Non-trainable params: 0\n",
            "_________________________________________________________________\n",
            "Epoch 1/20\n",
            "317/317 [==============================] - 1s 3ms/step - loss: 0.3134 - mse: 0.3134 - val_loss: 0.1506 - val_mse: 0.1506\n",
            "Epoch 2/20\n",
            "317/317 [==============================] - 2s 6ms/step - loss: 0.0777 - mse: 0.0777 - val_loss: 0.0365 - val_mse: 0.0365\n",
            "Epoch 3/20\n",
            "317/317 [==============================] - 5s 15ms/step - loss: 0.0266 - mse: 0.0266 - val_loss: 0.0195 - val_mse: 0.0195\n",
            "Epoch 4/20\n",
            "317/317 [==============================] - 1s 3ms/step - loss: 0.0157 - mse: 0.0157 - val_loss: 0.0119 - val_mse: 0.0119\n",
            "Epoch 5/20\n",
            "317/317 [==============================] - 1s 4ms/step - loss: 0.0094 - mse: 0.0094 - val_loss: 0.0071 - val_mse: 0.0071\n",
            "Epoch 6/20\n",
            "317/317 [==============================] - 1s 3ms/step - loss: 0.0057 - mse: 0.0057 - val_loss: 0.0044 - val_mse: 0.0044\n",
            "Epoch 7/20\n",
            "317/317 [==============================] - 1s 3ms/step - loss: 0.0033 - mse: 0.0033 - val_loss: 0.0025 - val_mse: 0.0025\n",
            "Epoch 8/20\n",
            "317/317 [==============================] - 1s 3ms/step - loss: 0.0021 - mse: 0.0021 - val_loss: 0.0018 - val_mse: 0.0018\n",
            "Epoch 9/20\n",
            "317/317 [==============================] - 1s 3ms/step - loss: 0.0016 - mse: 0.0016 - val_loss: 0.0015 - val_mse: 0.0015\n",
            "Epoch 10/20\n",
            "317/317 [==============================] - 2s 5ms/step - loss: 0.0013 - mse: 0.0013 - val_loss: 0.0013 - val_mse: 0.0013\n",
            "Epoch 11/20\n",
            "317/317 [==============================] - 1s 3ms/step - loss: 0.0012 - mse: 0.0012 - val_loss: 0.0011 - val_mse: 0.0011\n",
            "Epoch 12/20\n",
            "317/317 [==============================] - 1s 3ms/step - loss: 0.0010 - mse: 0.0010 - val_loss: 9.9734e-04 - val_mse: 9.9734e-04\n",
            "Epoch 13/20\n",
            "317/317 [==============================] - 1s 3ms/step - loss: 9.3506e-04 - mse: 9.3506e-04 - val_loss: 8.8778e-04 - val_mse: 8.8778e-04\n",
            "Epoch 14/20\n",
            "317/317 [==============================] - 1s 3ms/step - loss: 8.3534e-04 - mse: 8.3534e-04 - val_loss: 7.9226e-04 - val_mse: 7.9226e-04\n",
            "Epoch 15/20\n",
            "317/317 [==============================] - 1s 5ms/step - loss: 7.4386e-04 - mse: 7.4386e-04 - val_loss: 7.0513e-04 - val_mse: 7.0513e-04\n",
            "Epoch 16/20\n",
            "317/317 [==============================] - 1s 3ms/step - loss: 6.6131e-04 - mse: 6.6131e-04 - val_loss: 6.2304e-04 - val_mse: 6.2304e-04\n",
            "Epoch 17/20\n",
            "317/317 [==============================] - 2s 5ms/step - loss: 5.8328e-04 - mse: 5.8328e-04 - val_loss: 5.4951e-04 - val_mse: 5.4951e-04\n",
            "Epoch 18/20\n",
            "317/317 [==============================] - 1s 3ms/step - loss: 5.1647e-04 - mse: 5.1647e-04 - val_loss: 4.8757e-04 - val_mse: 4.8757e-04\n",
            "Epoch 19/20\n",
            "317/317 [==============================] - 1s 4ms/step - loss: 4.5477e-04 - mse: 4.5477e-04 - val_loss: 4.3379e-04 - val_mse: 4.3379e-04\n",
            "Epoch 20/20\n",
            "317/317 [==============================] - 1s 3ms/step - loss: 4.0050e-04 - mse: 4.0050e-04 - val_loss: 3.8450e-04 - val_mse: 3.8450e-04\n"
          ]
        }
      ]
    },
    {
      "cell_type": "code",
      "source": [
        "mlp_test = mlp.evaluate(X_test, Y_test)\n",
        "mlp_test"
      ],
      "metadata": {
        "colab": {
          "base_uri": "https://localhost:8080/"
        },
        "id": "2BLHSrcYz_bO",
        "outputId": "0269ab5f-f5b4-49b2-c91f-5708305c8782"
      },
      "execution_count": 12,
      "outputs": [
        {
          "output_type": "stream",
          "name": "stdout",
          "text": [
            "194/194 [==============================] - 0s 1ms/step - loss: 3.5051e-04 - mse: 3.5051e-04\n"
          ]
        },
        {
          "output_type": "execute_result",
          "data": {
            "text/plain": [
              "[0.0003505069180391729, 0.0003505069180391729]"
            ]
          },
          "metadata": {},
          "execution_count": 12
        }
      ]
    },
    {
      "cell_type": "markdown",
      "source": [
        "### Using Batch Normalization or not ?\n",
        "\n",
        "- As seen that although Batch Normalization does help with the Normalization\n",
        "- Using MinMax Scaler is stil a good practice as even with Normalization the loss starts to converge from a very big value which can be avoided simply using a MinMax Scaler\n",
        "- The difference between the **Test MSE** of both models is very much so it can't be ignored **(0.5 vs 3e-4) approx**"
      ],
      "metadata": {
        "id": "QViT6kUFzg5p"
      }
    },
    {
      "cell_type": "markdown",
      "source": [
        "## Visualising the MSE for the MLP Model"
      ],
      "metadata": {
        "id": "3mgJAgvvUrYE"
      }
    },
    {
      "cell_type": "code",
      "source": [
        "sns.set_style(\"darkgrid\")\n",
        "train_mse = mlp_history.history['mse']\n",
        "valid_mse = mlp_history.history['val_mse']\n",
        "epochs = range(1, len(valid_mse) + 1)\n",
        "\n",
        "plt.figure()\n",
        "\n",
        "#Train and validation loss\n",
        "\n",
        "plt.plot(epochs, train_mse, 'b', label='Training MSE')\n",
        "plt.plot(epochs, valid_mse, 'r', label='Validation MSE')\n",
        "plt.xlabel('Epoch #')\n",
        "plt.ylabel('Loss')\n",
        "plt.title('Training and Validation MSE')\n",
        "plt.legend()\n",
        "\n",
        "plt.show()"
      ],
      "metadata": {
        "colab": {
          "base_uri": "https://localhost:8080/",
          "height": 295
        },
        "id": "PxxLMwlp7-J_",
        "outputId": "56f42b57-11c7-4fd5-bb31-32aaf75f9b97"
      },
      "execution_count": 13,
      "outputs": [
        {
          "output_type": "display_data",
          "data": {
            "text/plain": [
              "<Figure size 432x288 with 1 Axes>"
            ],
            "image/png": "[encoded data removed]"
          },
          "metadata": {}
        }
      ]
    },
    {
      "cell_type": "markdown",
      "source": [
        "## Comment on the overall accuracy\n",
        "\n",
        "- Using the MLP Classifier we get very good **Train MSE score : 4e-04** and **Test MSE Score : 3e-04**\n",
        "- It being a simple 1 hidden layer model giving this result is very good.\n",
        "- Therefore, it is doing a very good job with this regression problem.\n",
        "- Although the dataset is small there doesn't seem to be any overfitting happening"
      ],
      "metadata": {
        "id": "uRDuzdmCWY5N"
      }
    },
    {
      "cell_type": "markdown",
      "source": [
        "## Buidling Deep and Wide Neural Network through Functional API"
      ],
      "metadata": {
        "id": "zdK9rYvUUu8j"
      }
    },
    {
      "cell_type": "code",
      "source": [
        "def Deep_Wide_Network():\n",
        "  inputA = tf.keras.layers.Input(shape=5, name = 'Input-A')\n",
        "  inputB = tf.keras.layers.Input(shape=6, name = 'Input-B')\n",
        "  dense1 = tf.keras.layers.Dense(30, activation = 'relu', name = \"Hidden-1\")\n",
        "  x1 = dense1(inputB)\n",
        "  dense2 = tf.keras.layers.Dense(30, activation = 'relu', name = 'Hidden-2')\n",
        "  x2 = dense2(x1)\n",
        "  concat = tf.keras.layers.Concatenate(axis = 1, name = 'Concat-Layer')([inputA, x2])\n",
        "  outputs = tf.keras.layers.Dense(1, activation = 'linear', name = \"Output-Layer\")(concat)\n",
        "\n",
        "  model = tf.keras.Model(inputs=[inputA, inputB], outputs=outputs, name='Deep_Wide_Model')\n",
        "  model.compile(loss=\"mean_squared_error\", optimizer=tf.keras.optimizers.Adam(learning_rate = 0.0001), metrics=[tf.keras.metrics.MeanSquaredError(name = 'mse')])\n",
        "  model.summary()\n",
        "  return model"
      ],
      "metadata": {
        "id": "ABmjRVys9QkQ"
      },
      "execution_count": 14,
      "outputs": []
    },
    {
      "cell_type": "code",
      "source": [
        "deep_wide = Deep_Wide_Network()"
      ],
      "metadata": {
        "colab": {
          "base_uri": "https://localhost:8080/"
        },
        "id": "RK0E1rODIMKT",
        "outputId": "8ff88c4c-31b9-4f0f-fe48-1ec3ce57daf0"
      },
      "execution_count": 15,
      "outputs": [
        {
          "output_type": "stream",
          "name": "stdout",
          "text": [
            "Model: \"Deep_Wide_Model\"\n",
            "__________________________________________________________________________________________________\n",
            " Layer (type)                   Output Shape         Param #     Connected to                     \n",
            "==================================================================================================\n",
            " Input-B (InputLayer)           [(None, 6)]          0           []                               \n",
            "                                                                                                  \n",
            " Hidden-1 (Dense)               (None, 30)           210         ['Input-B[0][0]']                \n",
            "                                                                                                  \n",
            " Input-A (InputLayer)           [(None, 5)]          0           []                               \n",
            "                                                                                                  \n",
            " Hidden-2 (Dense)               (None, 30)           930         ['Hidden-1[0][0]']               \n",
            "                                                                                                  \n",
            " Concat-Layer (Concatenate)     (None, 35)           0           ['Input-A[0][0]',                \n",
            "                                                                  'Hidden-2[0][0]']               \n",
            "                                                                                                  \n",
            " Output-Layer (Dense)           (None, 1)            36          ['Concat-Layer[0][0]']           \n",
            "                                                                                                  \n",
            "==================================================================================================\n",
            "Total params: 1,176\n",
            "Trainable params: 1,176\n",
            "Non-trainable params: 0\n",
            "__________________________________________________________________________________________________\n"
          ]
        }
      ]
    },
    {
      "cell_type": "markdown",
      "source": [
        "## Traning and Testing the Deep and Wide Network"
      ],
      "metadata": {
        "id": "srKS9hTJVKft"
      }
    },
    {
      "cell_type": "code",
      "source": [
        "deep_wide_history = deep_wide.fit(x = [X_train[:, 0:5], X_train[:,2:8]], y= Y_train, batch_size = 32, epochs = 20, validation_split=0.3, verbose=1)"
      ],
      "metadata": {
        "colab": {
          "base_uri": "https://localhost:8080/"
        },
        "id": "BXDwshs5JA_S",
        "outputId": "14ba55e4-b35a-4723-a30e-dc2c92f47e7a"
      },
      "execution_count": 16,
      "outputs": [
        {
          "output_type": "stream",
          "name": "stdout",
          "text": [
            "Epoch 1/20\n",
            "317/317 [==============================] - 2s 4ms/step - loss: 0.1204 - mse: 0.1204 - val_loss: 0.0133 - val_mse: 0.0133\n",
            "Epoch 2/20\n",
            "317/317 [==============================] - 5s 16ms/step - loss: 0.0043 - mse: 0.0043 - val_loss: 0.0022 - val_mse: 0.0022\n",
            "Epoch 3/20\n",
            "317/317 [==============================] - 2s 7ms/step - loss: 0.0020 - mse: 0.0020 - val_loss: 0.0019 - val_mse: 0.0019\n",
            "Epoch 4/20\n",
            "317/317 [==============================] - 1s 3ms/step - loss: 0.0018 - mse: 0.0018 - val_loss: 0.0017 - val_mse: 0.0017\n",
            "Epoch 5/20\n",
            "317/317 [==============================] - 1s 3ms/step - loss: 0.0016 - mse: 0.0016 - val_loss: 0.0015 - val_mse: 0.0015\n",
            "Epoch 6/20\n",
            "317/317 [==============================] - 1s 3ms/step - loss: 0.0015 - mse: 0.0015 - val_loss: 0.0014 - val_mse: 0.0014\n",
            "Epoch 7/20\n",
            "317/317 [==============================] - 1s 3ms/step - loss: 0.0013 - mse: 0.0013 - val_loss: 0.0013 - val_mse: 0.0013\n",
            "Epoch 8/20\n",
            "317/317 [==============================] - 2s 7ms/step - loss: 0.0012 - mse: 0.0012 - val_loss: 0.0011 - val_mse: 0.0011\n",
            "Epoch 9/20\n",
            "317/317 [==============================] - 1s 3ms/step - loss: 0.0011 - mse: 0.0011 - val_loss: 9.9717e-04 - val_mse: 9.9717e-04\n",
            "Epoch 10/20\n",
            "317/317 [==============================] - 1s 4ms/step - loss: 9.4076e-04 - mse: 9.4076e-04 - val_loss: 8.7303e-04 - val_mse: 8.7303e-04\n",
            "Epoch 11/20\n",
            "317/317 [==============================] - 2s 6ms/step - loss: 8.1653e-04 - mse: 8.1653e-04 - val_loss: 7.4694e-04 - val_mse: 7.4694e-04\n",
            "Epoch 12/20\n",
            "317/317 [==============================] - 2s 6ms/step - loss: 6.9757e-04 - mse: 6.9757e-04 - val_loss: 6.3190e-04 - val_mse: 6.3190e-04\n",
            "Epoch 13/20\n",
            "317/317 [==============================] - 2s 5ms/step - loss: 5.8633e-04 - mse: 5.8633e-04 - val_loss: 5.2666e-04 - val_mse: 5.2666e-04\n",
            "Epoch 14/20\n",
            "317/317 [==============================] - 1s 4ms/step - loss: 4.8425e-04 - mse: 4.8425e-04 - val_loss: 4.3115e-04 - val_mse: 4.3115e-04\n",
            "Epoch 15/20\n",
            "317/317 [==============================] - 1s 3ms/step - loss: 3.9514e-04 - mse: 3.9514e-04 - val_loss: 3.4933e-04 - val_mse: 3.4933e-04\n",
            "Epoch 16/20\n",
            "317/317 [==============================] - 1s 4ms/step - loss: 3.1670e-04 - mse: 3.1670e-04 - val_loss: 2.8029e-04 - val_mse: 2.8029e-04\n",
            "Epoch 17/20\n",
            "317/317 [==============================] - 1s 3ms/step - loss: 2.5102e-04 - mse: 2.5102e-04 - val_loss: 2.2308e-04 - val_mse: 2.2308e-04\n",
            "Epoch 18/20\n",
            "317/317 [==============================] - 1s 4ms/step - loss: 1.9789e-04 - mse: 1.9789e-04 - val_loss: 1.7706e-04 - val_mse: 1.7706e-04\n",
            "Epoch 19/20\n",
            "317/317 [==============================] - 1s 3ms/step - loss: 1.5430e-04 - mse: 1.5430e-04 - val_loss: 1.4090e-04 - val_mse: 1.4090e-04\n",
            "Epoch 20/20\n",
            "317/317 [==============================] - 3s 8ms/step - loss: 1.1932e-04 - mse: 1.1932e-04 - val_loss: 1.1085e-04 - val_mse: 1.1085e-04\n"
          ]
        }
      ]
    },
    {
      "cell_type": "code",
      "source": [
        "deep_wide_test = deep_wide.evaluate(x = [X_test[:,0:5], X_test[:,2:8]], y =Y_test)\n",
        "deep_wide_test"
      ],
      "metadata": {
        "colab": {
          "base_uri": "https://localhost:8080/"
        },
        "id": "FCliBBQqTTfr",
        "outputId": "262e747b-2f3c-40a4-8f3a-93010dc60f46"
      },
      "execution_count": 17,
      "outputs": [
        {
          "output_type": "stream",
          "name": "stdout",
          "text": [
            "194/194 [==============================] - 0s 1ms/step - loss: 9.7914e-05 - mse: 9.7914e-05\n"
          ]
        },
        {
          "output_type": "execute_result",
          "data": {
            "text/plain": [
              "[9.791428601602092e-05, 9.791428601602092e-05]"
            ]
          },
          "metadata": {},
          "execution_count": 17
        }
      ]
    },
    {
      "cell_type": "markdown",
      "source": [
        "## Visualising the Deep and Wide Network"
      ],
      "metadata": {
        "id": "3K2CP7jEVOWM"
      }
    },
    {
      "cell_type": "code",
      "source": [
        "sns.set_style(\"darkgrid\")\n",
        "train_mse = deep_wide_history.history['mse']\n",
        "valid_mse = deep_wide_history.history['val_mse']\n",
        "epochs = range(1, len(valid_mse) + 1)\n",
        "\n",
        "plt.figure()\n",
        "\n",
        "#Train and validation loss\n",
        "\n",
        "plt.plot(epochs, train_mse, 'b', label='Training MSE')\n",
        "plt.plot(epochs, valid_mse, 'r', label='Validation MSE')\n",
        "plt.xlabel('Epoch #')\n",
        "plt.ylabel('Loss')\n",
        "plt.title('Training and Validation MSE')\n",
        "plt.legend()\n",
        "\n",
        "plt.show()"
      ],
      "metadata": {
        "colab": {
          "base_uri": "https://localhost:8080/",
          "height": 295
        },
        "id": "sKEF4IzCTNIF",
        "outputId": "f183fa7b-9afc-46b9-e9c5-dfb2e9274453"
      },
      "execution_count": 18,
      "outputs": [
        {
          "output_type": "display_data",
          "data": {
            "text/plain": [
              "<Figure size 432x288 with 1 Axes>"
            ],
            "image/png": "[encoded data removed]"
          },
          "metadata": {}
        }
      ]
    },
    {
      "cell_type": "markdown",
      "source": [
        "#### Simple Tabulation of all the models"
      ],
      "metadata": {
        "id": "s6OTBN5m_644"
      }
    },
    {
      "cell_type": "code",
      "source": [
        "from tabulate import tabulate\n",
        "table = [['MSE', 'MLP-w/ BatchNorm', 'MLP-w/ MinMaxScale', 'Deep and Wide'],\n",
        "         ['Train',history.history['val_mse'][-1], mlp_history.history['val_mse'][-1], deep_wide_history.history['val_mse'][-1]],\n",
        "         ['Test', mlp_norm_test[1], mlp_test[1], deep_wide_test[1]]\n",
        "        ]\n",
        "\n",
        "print(tabulate(table, headers='firstrow', tablefmt='fancy_grid'))"
      ],
      "metadata": {
        "colab": {
          "base_uri": "https://localhost:8080/"
        },
        "id": "8dwuPHE174mq",
        "outputId": "8465943a-e20b-48dd-b001-84d40e470a87"
      },
      "execution_count": 20,
      "outputs": [
        {
          "output_type": "stream",
          "name": "stdout",
          "text": [
            "╒═══════╤════════════════════╤══════════════════════╤═════════════════╕\n",
            "│ MSE   │   MLP-w/ BatchNorm │   MLP-w/ MinMaxScale │   Deep and Wide │\n",
            "╞═══════╪════════════════════╪══════════════════════╪═════════════════╡\n",
            "│ Train │           0.607661 │          0.0003845   │     0.000110853 │\n",
            "├───────┼────────────────────┼──────────────────────┼─────────────────┤\n",
            "│ Test  │           0.568869 │          0.000350507 │     9.79143e-05 │\n",
            "╘═══════╧════════════════════╧══════════════════════╧═════════════════╛\n"
          ]
        }
      ]
    },
    {
      "cell_type": "markdown",
      "source": [
        "\n",
        "\n",
        "## Comments on overall accuracy of Deep and Wide Neural Network :\n",
        "\n",
        "- The model has the best Train and Test MSE among all models\n",
        "- It very sharply converges to the global optimum\n",
        "- This model also doesn't overfit the data\n",
        "- This model performs better than the MLP model giving a better accuracy\n",
        "- All in all the Deep and Wide Neural Network works the best for this problem\n"
      ],
      "metadata": {
        "id": "oOYMQIv1DBY5"
      }
    },
    {
      "cell_type": "markdown",
      "source": [
        "\n",
        "\n",
        "#### **Some observations of the Functional API**\n",
        "\n",
        "- The main idea is that a deep learning model is usually a directed acyclic graph (DAG) of layers. So the functional API is a way to build graphs of layers. (**from Documentation**)\n",
        "\n",
        "- Building said DAG functionally using layers gives us more control over how and what we want to do instead of simply following a set pattern.\n",
        "\n",
        "- This way we can use multiple models and combine them to form a final model\n",
        "> Which we did while making the Deep and Wide Neural Network (kind of,  not exactly!)\n",
        "\n",
        "- Also to build a Deep and Wide Network we had divided the input into 2 inputs (InputA, InputB)\n",
        "\n",
        "- This helped us learn (deeply) over a certain set of features and not learn at all over a certain set of features (altough in this case there was an overlap).\n",
        "\n",
        "- This shows how our algorithms can be ***better*** optimized and the computational cost can be brought down."
      ],
      "metadata": {
        "id": "lDkb6YIQ_Sn0"
      }
    }
  ]
}
