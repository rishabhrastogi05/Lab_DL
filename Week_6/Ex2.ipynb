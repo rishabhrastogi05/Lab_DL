{
  "nbformat": 4,
  "nbformat_minor": 0,
  "metadata": {
    "colab": {
      "provenance": [],
      "collapsed_sections": [],
      "authorship_tag": "ABX9TyNwbH+Tvg/FqorPlbnl2aGR",
      "include_colab_link": true
    },
    "kernelspec": {
      "name": "python3",
      "display_name": "Python 3"
    },
    "language_info": {
      "name": "python"
    },
    "accelerator": "GPU",
    "gpuClass": "standard"
  },
  "cells": [
    {
      "cell_type": "markdown",
      "metadata": {
        "id": "view-in-github",
        "colab_type": "text"
      },
      "source": [
        "<a href=\"https://colab.research.google.com/github/manvendra-07/DL-Lab/blob/main/Week%206/200968146_DL_Week6_Ex2.ipynb\" target=\"_parent\"><img src=\"https://colab.research.google.com/assets/colab-badge.svg\" alt=\"Open In Colab\"/></a>"
      ]
    },
    {
      "cell_type": "markdown",
      "source": [
        "## Importing the Required Libraries"
      ],
      "metadata": {
        "id": "pRovp83HjWMW"
      }
    },
    {
      "cell_type": "code",
      "execution_count": 25,
      "metadata": {
        "id": "LKIeh5Ut-WfE"
      },
      "outputs": [],
      "source": [
        "import pandas as pd\n",
        "import numpy as np\n",
        "import tensorflow as tf\n",
        "import seaborn as sns\n",
        "from matplotlib import pyplot as plt\n",
        "from sklearn.preprocessing import MinMaxScaler\n",
        "from sklearn.model_selection import train_test_split"
      ]
    },
    {
      "cell_type": "markdown",
      "source": [
        "# Preparing the data"
      ],
      "metadata": {
        "id": "JrauFMCIjrme"
      }
    },
    {
      "cell_type": "markdown",
      "source": [
        "- **Importing the dataset**"
      ],
      "metadata": {
        "id": "EkeDtpGOjaJk"
      }
    },
    {
      "cell_type": "code",
      "source": [
        "test_set = pd.read_csv('Google_Stock_Price_Test.csv')\n",
        "train_set = pd.read_csv('Google_Stock_Price_Train.csv')"
      ],
      "metadata": {
        "id": "L4V8MYvM_a5i"
      },
      "execution_count": 26,
      "outputs": []
    },
    {
      "cell_type": "code",
      "source": [
        "train_set.head()"
      ],
      "metadata": {
        "colab": {
          "base_uri": "https://localhost:8080/",
          "height": 206
        },
        "id": "pNlY8EUa_6sj",
        "outputId": "214b2e1a-7e06-4d95-eaa5-125edf931f90"
      },
      "execution_count": 27,
      "outputs": [
        {
          "output_type": "execute_result",
          "data": {
            "text/plain": [
              "       Date    Open    High     Low   Close      Volume\n",
              "0  1/3/2012  325.25  332.83  324.97  663.59   7,380,500\n",
              "1  1/4/2012  331.27  333.87  329.08  666.45   5,749,400\n",
              "2  1/5/2012  329.83  330.75  326.89  657.21   6,590,300\n",
              "3  1/6/2012  328.34  328.77  323.68  648.24   5,405,900\n",
              "4  1/9/2012  322.04  322.29  309.46  620.76  11,688,800"
            ],
            "text/html": [
              "\n",
              "  <div id=\"df-2c40abbd-03e3-4c56-8b2c-11d40f462a2e\">\n",
              "    <div class=\"colab-df-container\">\n",
              "      <div>\n",
              "<style scoped>\n",
              "    .dataframe tbody tr th:only-of-type {\n",
              "        vertical-align: middle;\n",
              "    }\n",
              "\n",
              "    .dataframe tbody tr th {\n",
              "        vertical-align: top;\n",
              "    }\n",
              "\n",
              "    .dataframe thead th {\n",
              "        text-align: right;\n",
              "    }\n",
              "</style>\n",
              "<table border=\"1\" class=\"dataframe\">\n",
              "  <thead>\n",
              "    <tr style=\"text-align: right;\">\n",
              "      <th></th>\n",
              "      <th>Date</th>\n",
              "      <th>Open</th>\n",
              "      <th>High</th>\n",
              "      <th>Low</th>\n",
              "      <th>Close</th>\n",
              "      <th>Volume</th>\n",
              "    </tr>\n",
              "  </thead>\n",
              "  <tbody>\n",
              "    <tr>\n",
              "      <th>0</th>\n",
              "      <td>1/3/2012</td>\n",
              "      <td>325.25</td>\n",
              "      <td>332.83</td>\n",
              "      <td>324.97</td>\n",
              "      <td>663.59</td>\n",
              "      <td>7,380,500</td>\n",
              "    </tr>\n",
              "    <tr>\n",
              "      <th>1</th>\n",
              "      <td>1/4/2012</td>\n",
              "      <td>331.27</td>\n",
              "      <td>333.87</td>\n",
              "      <td>329.08</td>\n",
              "      <td>666.45</td>\n",
              "      <td>5,749,400</td>\n",
              "    </tr>\n",
              "    <tr>\n",
              "      <th>2</th>\n",
              "      <td>1/5/2012</td>\n",
              "      <td>329.83</td>\n",
              "      <td>330.75</td>\n",
              "      <td>326.89</td>\n",
              "      <td>657.21</td>\n",
              "      <td>6,590,300</td>\n",
              "    </tr>\n",
              "    <tr>\n",
              "      <th>3</th>\n",
              "      <td>1/6/2012</td>\n",
              "      <td>328.34</td>\n",
              "      <td>328.77</td>\n",
              "      <td>323.68</td>\n",
              "      <td>648.24</td>\n",
              "      <td>5,405,900</td>\n",
              "    </tr>\n",
              "    <tr>\n",
              "      <th>4</th>\n",
              "      <td>1/9/2012</td>\n",
              "      <td>322.04</td>\n",
              "      <td>322.29</td>\n",
              "      <td>309.46</td>\n",
              "      <td>620.76</td>\n",
              "      <td>11,688,800</td>\n",
              "    </tr>\n",
              "  </tbody>\n",
              "</table>\n",
              "</div>\n",
              "      <button class=\"colab-df-convert\" onclick=\"convertToInteractive('df-2c40abbd-03e3-4c56-8b2c-11d40f462a2e')\"\n",
              "              title=\"Convert this dataframe to an interactive table.\"\n",
              "              style=\"display:none;\">\n",
              "        \n",
              "  <svg xmlns=\"http://www.w3.org/2000/svg\" height=\"24px\"viewBox=\"0 0 24 24\"\n",
              "       width=\"24px\">\n",
              "    <path d=\"M0 0h24v24H0V0z\" fill=\"none\"/>\n",
              "    <path d=\"M18.56 5.44l.94 2.06.94-2.06 2.06-.94-2.06-.94-.94-2.06-.94 2.06-2.06.94zm-11 1L8.5 8.5l.94-2.06 2.06-.94-2.06-.94L8.5 2.5l-.94 2.06-2.06.94zm10 10l.94 2.06.94-2.06 2.06-.94-2.06-.94-.94-2.06-.94 2.06-2.06.94z\"/><path d=\"M17.41 7.96l-1.37-1.37c-.4-.4-.92-.59-1.43-.59-.52 0-1.04.2-1.43.59L10.3 9.45l-7.72 7.72c-.78.78-.78 2.05 0 2.83L4 21.41c.39.39.9.59 1.41.59.51 0 1.02-.2 1.41-.59l7.78-7.78 2.81-2.81c.8-.78.8-2.07 0-2.86zM5.41 20L4 18.59l7.72-7.72 1.47 1.35L5.41 20z\"/>\n",
              "  </svg>\n",
              "      </button>\n",
              "      \n",
              "  <style>\n",
              "    .colab-df-container {\n",
              "      display:flex;\n",
              "      flex-wrap:wrap;\n",
              "      gap: 12px;\n",
              "    }\n",
              "\n",
              "    .colab-df-convert {\n",
              "      background-color: #E8F0FE;\n",
              "      border: none;\n",
              "      border-radius: 50%;\n",
              "      cursor: pointer;\n",
              "      display: none;\n",
              "      fill: #1967D2;\n",
              "      height: 32px;\n",
              "      padding: 0 0 0 0;\n",
              "      width: 32px;\n",
              "    }\n",
              "\n",
              "    .colab-df-convert:hover {\n",
              "      background-color: #E2EBFA;\n",
              "      box-shadow: 0px 1px 2px rgba(60, 64, 67, 0.3), 0px 1px 3px 1px rgba(60, 64, 67, 0.15);\n",
              "      fill: #174EA6;\n",
              "    }\n",
              "\n",
              "    [theme=dark] .colab-df-convert {\n",
              "      background-color: #3B4455;\n",
              "      fill: #D2E3FC;\n",
              "    }\n",
              "\n",
              "    [theme=dark] .colab-df-convert:hover {\n",
              "      background-color: #434B5C;\n",
              "      box-shadow: 0px 1px 3px 1px rgba(0, 0, 0, 0.15);\n",
              "      filter: drop-shadow(0px 1px 2px rgba(0, 0, 0, 0.3));\n",
              "      fill: #FFFFFF;\n",
              "    }\n",
              "  </style>\n",
              "\n",
              "      <script>\n",
              "        const buttonEl =\n",
              "          document.querySelector('#df-2c40abbd-03e3-4c56-8b2c-11d40f462a2e button.colab-df-convert');\n",
              "        buttonEl.style.display =\n",
              "          google.colab.kernel.accessAllowed ? 'block' : 'none';\n",
              "\n",
              "        async function convertToInteractive(key) {\n",
              "          const element = document.querySelector('#df-2c40abbd-03e3-4c56-8b2c-11d40f462a2e');\n",
              "          const dataTable =\n",
              "            await google.colab.kernel.invokeFunction('convertToInteractive',\n",
              "                                                     [key], {});\n",
              "          if (!dataTable) return;\n",
              "\n",
              "          const docLinkHtml = 'Like what you see? Visit the ' +\n",
              "            '<a target=\"_blank\" href=https://colab.research.google.com/notebooks/data_table.ipynb>data table notebook</a>'\n",
              "            + ' to learn more about interactive tables.';\n",
              "          element.innerHTML = '';\n",
              "          dataTable['output_type'] = 'display_data';\n",
              "          await google.colab.output.renderOutput(dataTable, element);\n",
              "          const docLink = document.createElement('div');\n",
              "          docLink.innerHTML = docLinkHtml;\n",
              "          element.appendChild(docLink);\n",
              "        }\n",
              "      </script>\n",
              "    </div>\n",
              "  </div>\n",
              "  "
            ]
          },
          "metadata": {},
          "execution_count": 27
        }
      ]
    },
    {
      "cell_type": "markdown",
      "source": [
        "- **Performing MinMax Scaling over the dataset**"
      ],
      "metadata": {
        "id": "NB2cOwNqjdrh"
      }
    },
    {
      "cell_type": "code",
      "source": [
        "## Train set\n",
        "training_set=train_set.iloc[:,1:2].values\n",
        "sc = MinMaxScaler(feature_range = (0, 1))\n",
        "training_set_scaled = sc.fit_transform(training_set)\n",
        "\n",
        "## Test set\n",
        "testing_set=train_set.iloc[:,1:2].values\n",
        "testing_set_scaled = sc.fit_transform(testing_set)"
      ],
      "metadata": {
        "id": "r6OG4FEg_716"
      },
      "execution_count": 28,
      "outputs": []
    },
    {
      "cell_type": "code",
      "source": [
        "plt.plot(training_set_scaled)\n",
        "plt.show()"
      ],
      "metadata": {
        "colab": {
          "base_uri": "https://localhost:8080/",
          "height": 265
        },
        "id": "Cem5CV0eQQvH",
        "outputId": "b66f06a7-9b98-459a-a857-ee9a5ba4d2a5"
      },
      "execution_count": 29,
      "outputs": [
        {
          "output_type": "display_data",
          "data": {
            "text/plain": [
              "<Figure size 432x288 with 1 Axes>"
            ],
            "image/png": "[encoded data removed]"
          },
          "metadata": {}
        }
      ]
    },
    {
      "cell_type": "markdown",
      "source": [
        "- **Spiliting the data into the required timesteps to be fed to sequence models**\n"
      ],
      "metadata": {
        "id": "359uEDmejiKH"
      }
    },
    {
      "cell_type": "code",
      "source": [
        "X_train, Y_train, X_test = [], [], []\n",
        "\n",
        "timesteps = 50\n",
        "for i in range(timesteps, len(training_set_scaled)):\n",
        "    X_train.append(training_set_scaled[i-timesteps:i,0])\n",
        "    Y_train.append(training_set_scaled[i,0])\n",
        "X_train, Y_train = np.array(X_train), np.array(Y_train)\n",
        "\n",
        "for i in range(timesteps, len(testing_set_scaled)):\n",
        "    X_test.append(training_set_scaled[i-timesteps:i,0])\n",
        "    \n",
        "X_train, Y_train, X_test = np.array(X_train), np.array(Y_train), np.array(X_test)"
      ],
      "metadata": {
        "id": "bOkWUfG0HPiz"
      },
      "execution_count": 30,
      "outputs": []
    },
    {
      "cell_type": "markdown",
      "source": [
        "- **Reshaping the data into (instances, timesteps, dimension) shape**"
      ],
      "metadata": {
        "id": "GoLv7wEHj2M0"
      }
    },
    {
      "cell_type": "code",
      "source": [
        "X_train = np.reshape(X_train, (X_train.shape[0], X_train.shape[1], 1))\n",
        "\n",
        "X_test = np.reshape(X_test, (X_test.shape[0], X_test.shape[1], 1))"
      ],
      "metadata": {
        "id": "5IaacwBEHX2T"
      },
      "execution_count": 31,
      "outputs": []
    },
    {
      "cell_type": "markdown",
      "source": [
        "## Functions for Visualisation"
      ],
      "metadata": {
        "id": "xGLOU5IEruqv"
      }
    },
    {
      "cell_type": "code",
      "source": [
        "def visualise_train(history):\n",
        "  sns.set_style(\"darkgrid\")\n",
        "  train_mse = history.history['mse']\n",
        "  valid_mse = history.history['val_mse']\n",
        "  epochs = range(1, len(valid_mse) + 1)\n",
        "\n",
        "  plt.figure()\n",
        "\n",
        "  #Train and validation loss\n",
        "\n",
        "  plt.plot(epochs, train_mse, 'b', label='Training MSE')\n",
        "  plt.plot(epochs, valid_mse, 'r', label='Validation MSE')\n",
        "  plt.xlabel('Epoch #')\n",
        "  plt.ylabel('Loss')\n",
        "  plt.title('Training and Validation MSE')\n",
        "  plt.legend()\n",
        "\n",
        "  plt.show()"
      ],
      "metadata": {
        "id": "gCVaUU_nJKM7"
      },
      "execution_count": 32,
      "outputs": []
    },
    {
      "cell_type": "code",
      "source": [
        "def visualise_test(Y_pred):\n",
        "  Y_pred = sc.inverse_transform(Y_pred)\n",
        "  plt.plot(testing_set, color = \"red\", label = \"Real Google Stock Price\")\n",
        "  plt.plot(Y_pred, color = \"blue\", label = \"Predicted Google Stock Price\")\n",
        "  plt.title(\"Google Stock Price Prediction\")\n",
        "  plt.xlabel(\"Time\")\n",
        "  plt.ylabel(\"Google Stock Price\")\n",
        "  plt.legend()\n",
        "  plt.show()"
      ],
      "metadata": {
        "id": "LJtZIATFpm0M"
      },
      "execution_count": 33,
      "outputs": []
    },
    {
      "cell_type": "markdown",
      "source": [
        "## Simple RNN Model"
      ],
      "metadata": {
        "id": "Y5xClP1Okidt"
      }
    },
    {
      "cell_type": "markdown",
      "source": [
        "- **Creating the SimpleRNN model using SimpleRNN layers from Keras**"
      ],
      "metadata": {
        "id": "FNco-jSfkDtw"
      }
    },
    {
      "cell_type": "code",
      "source": [
        "def SimpleRNN():\n",
        "  regressor = tf.keras.Sequential([\n",
        "      tf.keras.layers.SimpleRNN(units=50,return_sequences=True,input_shape=(X_train.shape[1], 1)),\n",
        "      tf.keras.layers.Dropout(0.2),\n",
        "      tf.keras.layers.SimpleRNN(units=50,return_sequences=True),\n",
        "      tf.keras.layers.Dropout(0.2),\n",
        "      tf.keras.layers.SimpleRNN(units=50,return_sequences=True),\n",
        "      tf.keras.layers.Dropout(0.2),\n",
        "      tf.keras.layers.SimpleRNN(units=50),\n",
        "      tf.keras.layers.Dropout(0.2),\n",
        "      tf.keras.layers.Dense(units=1)\n",
        "      ])\n",
        "  regressor.summary()\n",
        "  regressor.compile(optimizer='adam', loss='mean_squared_error', metrics = [tf.keras.metrics.MeanSquaredError(name='mse')])\n",
        "  return regressor"
      ],
      "metadata": {
        "id": "oCDuQCFZHfAb"
      },
      "execution_count": 34,
      "outputs": []
    },
    {
      "cell_type": "markdown",
      "source": [
        "- **Training the Simple RNN Model**"
      ],
      "metadata": {
        "id": "3BOO7D1YkVMc"
      }
    },
    {
      "cell_type": "code",
      "source": [
        "rnn = SimpleRNN()\n",
        "history_rnn = rnn.fit(X_train, Y_train, batch_size = 32, epochs = 20, validation_split=0.3, verbose=1)"
      ],
      "metadata": {
        "colab": {
          "base_uri": "https://localhost:8080/"
        },
        "id": "1jgdjgECJBvk",
        "outputId": "a81d29a1-4335-41dd-f4fc-05927fd0cf49"
      },
      "execution_count": 35,
      "outputs": [
        {
          "output_type": "stream",
          "name": "stdout",
          "text": [
            "Model: \"sequential_3\"\n",
            "_________________________________________________________________\n",
            " Layer (type)                Output Shape              Param #   \n",
            "=================================================================\n",
            " simple_rnn_8 (SimpleRNN)    (None, 50, 50)            2600      \n",
            "                                                                 \n",
            " dropout_12 (Dropout)        (None, 50, 50)            0         \n",
            "                                                                 \n",
            " simple_rnn_9 (SimpleRNN)    (None, 50, 50)            5050      \n",
            "                                                                 \n",
            " dropout_13 (Dropout)        (None, 50, 50)            0         \n",
            "                                                                 \n",
            " simple_rnn_10 (SimpleRNN)   (None, 50, 50)            5050      \n",
            "                                                                 \n",
            " dropout_14 (Dropout)        (None, 50, 50)            0         \n",
            "                                                                 \n",
            " simple_rnn_11 (SimpleRNN)   (None, 50)                5050      \n",
            "                                                                 \n",
            " dropout_15 (Dropout)        (None, 50)                0         \n",
            "                                                                 \n",
            " dense_3 (Dense)             (None, 1)                 51        \n",
            "                                                                 \n",
            "=================================================================\n",
            "Total params: 17,801\n",
            "Trainable params: 17,801\n",
            "Non-trainable params: 0\n",
            "_________________________________________________________________\n",
            "Epoch 1/20\n",
            "27/27 [==============================] - 14s 343ms/step - loss: 0.6232 - mse: 0.6232 - val_loss: 0.0375 - val_mse: 0.0375\n",
            "Epoch 2/20\n",
            "27/27 [==============================] - 5s 197ms/step - loss: 0.2799 - mse: 0.2799 - val_loss: 0.0243 - val_mse: 0.0243\n",
            "Epoch 3/20\n",
            "27/27 [==============================] - 5s 185ms/step - loss: 0.2367 - mse: 0.2367 - val_loss: 0.0065 - val_mse: 0.0065\n",
            "Epoch 4/20\n",
            "27/27 [==============================] - 5s 190ms/step - loss: 0.1864 - mse: 0.1864 - val_loss: 0.0052 - val_mse: 0.0052\n",
            "Epoch 5/20\n",
            "27/27 [==============================] - 5s 183ms/step - loss: 0.1334 - mse: 0.1334 - val_loss: 0.0174 - val_mse: 0.0174\n",
            "Epoch 6/20\n",
            "27/27 [==============================] - 5s 199ms/step - loss: 0.1127 - mse: 0.1127 - val_loss: 0.0040 - val_mse: 0.0040\n",
            "Epoch 7/20\n",
            "27/27 [==============================] - 5s 192ms/step - loss: 0.0967 - mse: 0.0967 - val_loss: 0.0199 - val_mse: 0.0199\n",
            "Epoch 8/20\n",
            "27/27 [==============================] - 5s 202ms/step - loss: 0.0922 - mse: 0.0922 - val_loss: 0.0034 - val_mse: 0.0034\n",
            "Epoch 9/20\n",
            "27/27 [==============================] - 5s 193ms/step - loss: 0.0731 - mse: 0.0731 - val_loss: 0.0044 - val_mse: 0.0044\n",
            "Epoch 10/20\n",
            "27/27 [==============================] - 5s 188ms/step - loss: 0.0650 - mse: 0.0650 - val_loss: 0.0057 - val_mse: 0.0057\n",
            "Epoch 11/20\n",
            "27/27 [==============================] - 5s 193ms/step - loss: 0.0655 - mse: 0.0655 - val_loss: 0.0024 - val_mse: 0.0024\n",
            "Epoch 12/20\n",
            "27/27 [==============================] - 5s 190ms/step - loss: 0.0508 - mse: 0.0508 - val_loss: 0.0031 - val_mse: 0.0031\n",
            "Epoch 13/20\n",
            "27/27 [==============================] - 5s 189ms/step - loss: 0.0422 - mse: 0.0422 - val_loss: 0.0024 - val_mse: 0.0024\n",
            "Epoch 14/20\n",
            "27/27 [==============================] - 5s 188ms/step - loss: 0.0398 - mse: 0.0398 - val_loss: 0.0060 - val_mse: 0.0060\n",
            "Epoch 15/20\n",
            "27/27 [==============================] - 6s 229ms/step - loss: 0.0364 - mse: 0.0364 - val_loss: 0.0048 - val_mse: 0.0048\n",
            "Epoch 16/20\n",
            "27/27 [==============================] - 5s 189ms/step - loss: 0.0329 - mse: 0.0329 - val_loss: 0.0028 - val_mse: 0.0028\n",
            "Epoch 17/20\n",
            "27/27 [==============================] - 5s 197ms/step - loss: 0.0323 - mse: 0.0323 - val_loss: 0.0027 - val_mse: 0.0027\n",
            "Epoch 18/20\n",
            "27/27 [==============================] - 5s 190ms/step - loss: 0.0302 - mse: 0.0302 - val_loss: 0.0075 - val_mse: 0.0075\n",
            "Epoch 19/20\n",
            "27/27 [==============================] - 5s 193ms/step - loss: 0.0271 - mse: 0.0271 - val_loss: 0.0048 - val_mse: 0.0048\n",
            "Epoch 20/20\n",
            "27/27 [==============================] - 5s 189ms/step - loss: 0.0213 - mse: 0.0213 - val_loss: 0.0041 - val_mse: 0.0041\n"
          ]
        }
      ]
    },
    {
      "cell_type": "markdown",
      "source": [
        "- **Visualising the Training Error**"
      ],
      "metadata": {
        "id": "JCdJLfSvr3KX"
      }
    },
    {
      "cell_type": "code",
      "source": [
        "visualise_train(history_rnn)"
      ],
      "metadata": {
        "colab": {
          "base_uri": "https://localhost:8080/",
          "height": 295
        },
        "id": "NLIS_5yfuIIW",
        "outputId": "aae3bd69-117e-4858-f3bf-1eefddc0987e"
      },
      "execution_count": 36,
      "outputs": [
        {
          "output_type": "display_data",
          "data": {
            "text/plain": [
              "<Figure size 432x288 with 1 Axes>"
            ],
            "image/png": "[encoded data removed]"
          },
          "metadata": {}
        }
      ]
    },
    {
      "cell_type": "markdown",
      "source": [
        "- **Testing the model**"
      ],
      "metadata": {
        "id": "SrJqOkUls8Hz"
      }
    },
    {
      "cell_type": "code",
      "source": [
        "Y_pred_rnn = rnn.predict(X_test, verbose = 1)"
      ],
      "metadata": {
        "colab": {
          "base_uri": "https://localhost:8080/"
        },
        "id": "5jfwOhe1ojSF",
        "outputId": "c1fbcf32-4b58-4ccc-e3a7-02d6883ab85f"
      },
      "execution_count": 37,
      "outputs": [
        {
          "output_type": "stream",
          "name": "stdout",
          "text": [
            "38/38 [==============================] - 1s 18ms/step\n"
          ]
        }
      ]
    },
    {
      "cell_type": "markdown",
      "source": [
        "- **Visualising the results**"
      ],
      "metadata": {
        "id": "z1PLLDMhppin"
      }
    },
    {
      "cell_type": "code",
      "source": [
        "visualise_test(Y_pred_rnn)"
      ],
      "metadata": {
        "colab": {
          "base_uri": "https://localhost:8080/",
          "height": 295
        },
        "id": "XEzeMoWIrgxD",
        "outputId": "60fa5ad3-1dcb-4e9c-d657-b753c5059d84"
      },
      "execution_count": 38,
      "outputs": [
        {
          "output_type": "display_data",
          "data": {
            "text/plain": [
              "<Figure size 432x288 with 1 Axes>"
            ],
            "image/png": "[encoded data removed]"
          },
          "metadata": {}
        }
      ]
    },
    {
      "cell_type": "markdown",
      "source": [
        "## LSTM Model"
      ],
      "metadata": {
        "id": "mRcQz7ZesRSE"
      }
    },
    {
      "cell_type": "markdown",
      "source": [
        "- **Creating the LSTM Model**"
      ],
      "metadata": {
        "id": "nsP7k9ojsUsY"
      }
    },
    {
      "cell_type": "code",
      "source": [
        "def LSTM():\n",
        "  regressor = tf.keras.Sequential([\n",
        "      tf.keras.layers.LSTM(units=50,return_sequences=True,input_shape=(X_train.shape[1], 1)),\n",
        "      tf.keras.layers.Dropout(0.2),\n",
        "      tf.keras.layers.LSTM(units=50,return_sequences=True),\n",
        "      tf.keras.layers.Dropout(0.2),\n",
        "      tf.keras.layers.LSTM(units=50,return_sequences=True),\n",
        "      tf.keras.layers.Dropout(0.2),\n",
        "      tf.keras.layers.LSTM(units=50),\n",
        "      tf.keras.layers.Dropout(0.2),\n",
        "      tf.keras.layers.Dense(units=1)\n",
        "      ])\n",
        "  regressor.summary()\n",
        "  regressor.compile(optimizer='adam', loss='mean_squared_error', metrics = [tf.keras.metrics.MeanSquaredError(name='mse')])\n",
        "  return regressor"
      ],
      "metadata": {
        "id": "M6jLY8sxKbrj"
      },
      "execution_count": 39,
      "outputs": []
    },
    {
      "cell_type": "markdown",
      "source": [
        "- **Training the LSTM Model**"
      ],
      "metadata": {
        "id": "-CwrIjhLsX-w"
      }
    },
    {
      "cell_type": "code",
      "source": [
        "lstm = LSTM()\n",
        "history_lstm = lstm.fit(X_train, Y_train, batch_size = 32, epochs = 20, validation_split = 0.3, verbose=1)"
      ],
      "metadata": {
        "colab": {
          "base_uri": "https://localhost:8080/"
        },
        "id": "h5aTUiznLWQM",
        "outputId": "9d91a9aa-5401-425d-c2ec-66027d07fb91"
      },
      "execution_count": 40,
      "outputs": [
        {
          "output_type": "stream",
          "name": "stdout",
          "text": [
            "Model: \"sequential_4\"\n",
            "_________________________________________________________________\n",
            " Layer (type)                Output Shape              Param #   \n",
            "=================================================================\n",
            " lstm_4 (LSTM)               (None, 50, 50)            10400     \n",
            "                                                                 \n",
            " dropout_16 (Dropout)        (None, 50, 50)            0         \n",
            "                                                                 \n",
            " lstm_5 (LSTM)               (None, 50, 50)            20200     \n",
            "                                                                 \n",
            " dropout_17 (Dropout)        (None, 50, 50)            0         \n",
            "                                                                 \n",
            " lstm_6 (LSTM)               (None, 50, 50)            20200     \n",
            "                                                                 \n",
            " dropout_18 (Dropout)        (None, 50, 50)            0         \n",
            "                                                                 \n",
            " lstm_7 (LSTM)               (None, 50)                20200     \n",
            "                                                                 \n",
            " dropout_19 (Dropout)        (None, 50)                0         \n",
            "                                                                 \n",
            " dense_4 (Dense)             (None, 1)                 51        \n",
            "                                                                 \n",
            "=================================================================\n",
            "Total params: 71,051\n",
            "Trainable params: 71,051\n",
            "Non-trainable params: 0\n",
            "_________________________________________________________________\n",
            "Epoch 1/20\n",
            "27/27 [==============================] - 8s 72ms/step - loss: 0.0262 - mse: 0.0262 - val_loss: 0.0447 - val_mse: 0.0447\n",
            "Epoch 2/20\n",
            "27/27 [==============================] - 0s 19ms/step - loss: 0.0041 - mse: 0.0041 - val_loss: 0.0063 - val_mse: 0.0063\n",
            "Epoch 3/20\n",
            "27/27 [==============================] - 1s 19ms/step - loss: 0.0042 - mse: 0.0042 - val_loss: 0.0069 - val_mse: 0.0069\n",
            "Epoch 4/20\n",
            "27/27 [==============================] - 1s 19ms/step - loss: 0.0034 - mse: 0.0034 - val_loss: 0.0116 - val_mse: 0.0116\n",
            "Epoch 5/20\n",
            "27/27 [==============================] - 1s 19ms/step - loss: 0.0031 - mse: 0.0031 - val_loss: 0.0155 - val_mse: 0.0155\n",
            "Epoch 6/20\n",
            "27/27 [==============================] - 0s 18ms/step - loss: 0.0029 - mse: 0.0029 - val_loss: 0.0030 - val_mse: 0.0030\n",
            "Epoch 7/20\n",
            "27/27 [==============================] - 1s 20ms/step - loss: 0.0034 - mse: 0.0034 - val_loss: 0.0266 - val_mse: 0.0266\n",
            "Epoch 8/20\n",
            "27/27 [==============================] - 1s 19ms/step - loss: 0.0032 - mse: 0.0032 - val_loss: 0.0037 - val_mse: 0.0037\n",
            "Epoch 9/20\n",
            "27/27 [==============================] - 1s 19ms/step - loss: 0.0034 - mse: 0.0034 - val_loss: 0.0155 - val_mse: 0.0155\n",
            "Epoch 10/20\n",
            "27/27 [==============================] - 1s 21ms/step - loss: 0.0030 - mse: 0.0030 - val_loss: 0.0067 - val_mse: 0.0067\n",
            "Epoch 11/20\n",
            "27/27 [==============================] - 1s 20ms/step - loss: 0.0027 - mse: 0.0027 - val_loss: 0.0103 - val_mse: 0.0103\n",
            "Epoch 12/20\n",
            "27/27 [==============================] - 1s 19ms/step - loss: 0.0026 - mse: 0.0026 - val_loss: 0.0073 - val_mse: 0.0073\n",
            "Epoch 13/20\n",
            "27/27 [==============================] - 1s 20ms/step - loss: 0.0026 - mse: 0.0026 - val_loss: 0.0106 - val_mse: 0.0106\n",
            "Epoch 14/20\n",
            "27/27 [==============================] - 1s 21ms/step - loss: 0.0025 - mse: 0.0025 - val_loss: 0.0078 - val_mse: 0.0078\n",
            "Epoch 15/20\n",
            "27/27 [==============================] - 1s 20ms/step - loss: 0.0024 - mse: 0.0024 - val_loss: 0.0055 - val_mse: 0.0055\n",
            "Epoch 16/20\n",
            "27/27 [==============================] - 1s 20ms/step - loss: 0.0025 - mse: 0.0025 - val_loss: 0.0105 - val_mse: 0.0105\n",
            "Epoch 17/20\n",
            "27/27 [==============================] - 1s 19ms/step - loss: 0.0022 - mse: 0.0022 - val_loss: 0.0075 - val_mse: 0.0075\n",
            "Epoch 18/20\n",
            "27/27 [==============================] - 1s 20ms/step - loss: 0.0022 - mse: 0.0022 - val_loss: 0.0089 - val_mse: 0.0089\n",
            "Epoch 19/20\n",
            "27/27 [==============================] - 1s 19ms/step - loss: 0.0023 - mse: 0.0023 - val_loss: 0.0049 - val_mse: 0.0049\n",
            "Epoch 20/20\n",
            "27/27 [==============================] - 1s 19ms/step - loss: 0.0022 - mse: 0.0022 - val_loss: 0.0075 - val_mse: 0.0075\n"
          ]
        }
      ]
    },
    {
      "cell_type": "markdown",
      "source": [
        "- **Visualising the Training Error**"
      ],
      "metadata": {
        "id": "wGnmr46WscUI"
      }
    },
    {
      "cell_type": "code",
      "source": [
        "visualise_train(history_lstm)"
      ],
      "metadata": {
        "colab": {
          "base_uri": "https://localhost:8080/",
          "height": 295
        },
        "id": "Wo6SeVOFuOg6",
        "outputId": "5d8ee5a2-dab4-4aca-9b23-0987eebdf7ce"
      },
      "execution_count": 41,
      "outputs": [
        {
          "output_type": "display_data",
          "data": {
            "text/plain": [
              "<Figure size 432x288 with 1 Axes>"
            ],
            "image/png": "[encoded data removed]"
          },
          "metadata": {}
        }
      ]
    },
    {
      "cell_type": "markdown",
      "source": [
        "- **Testing the Model**"
      ],
      "metadata": {
        "id": "OfGOMglDsgdr"
      }
    },
    {
      "cell_type": "code",
      "source": [
        "Y_pred_lstm = lstm.predict(X_test, verbose=1)"
      ],
      "metadata": {
        "colab": {
          "base_uri": "https://localhost:8080/"
        },
        "id": "8o_tOzdZq6-v",
        "outputId": "26d7452b-7713-4e04-c588-56e0a4a87c7e"
      },
      "execution_count": 42,
      "outputs": [
        {
          "output_type": "stream",
          "name": "stdout",
          "text": [
            "38/38 [==============================] - 2s 7ms/step\n"
          ]
        }
      ]
    },
    {
      "cell_type": "markdown",
      "source": [
        "- **Visualising the results**"
      ],
      "metadata": {
        "id": "OPGjgvOfsjq_"
      }
    },
    {
      "cell_type": "code",
      "source": [
        "visualise_test(Y_pred_lstm)"
      ],
      "metadata": {
        "colab": {
          "base_uri": "https://localhost:8080/",
          "height": 295
        },
        "id": "rwZtmt4Asl9w",
        "outputId": "b4bf85c8-fdbf-4b7e-cfcc-e6f24673a911"
      },
      "execution_count": 43,
      "outputs": [
        {
          "output_type": "display_data",
          "data": {
            "text/plain": [
              "<Figure size 432x288 with 1 Axes>"
            ],
            "image/png": "[encoded data removed]"
          },
          "metadata": {}
        }
      ]
    },
    {
      "cell_type": "markdown",
      "source": [
        "## Tabulation of both the models for comparison"
      ],
      "metadata": {
        "id": "aqp94vPIu35A"
      }
    },
    {
      "cell_type": "code",
      "source": [
        "from tabulate import tabulate\n",
        "table = [['MSE', 'SimpleRNN', 'LSTM'],\n",
        "         ['Train',history_rnn.history['mse'][-1], history_lstm.history['mse'][-1]],\n",
        "         ['Test', Y_pred_rnn[1], Y_pred_lstm[1]]\n",
        "        ]\n",
        "\n",
        "print(tabulate(table, headers='firstrow', tablefmt='fancy_grid'))"
      ],
      "metadata": {
        "colab": {
          "base_uri": "https://localhost:8080/"
        },
        "id": "6zUQBXNNtaLo",
        "outputId": "c1239a4b-cbcc-4100-9f0f-950789976146"
      },
      "execution_count": 44,
      "outputs": [
        {
          "output_type": "stream",
          "name": "stdout",
          "text": [
            "╒═══════╤═════════════╤═══════════╕\n",
            "│ MSE   │   SimpleRNN │      LSTM │\n",
            "╞═══════╪═════════════╪═══════════╡\n",
            "│ Train │   0.0213336 │ 0.0022288 │\n",
            "├───────┼─────────────┼───────────┤\n",
            "│ Test  │   0.0570883 │ 0.0418056 │\n",
            "╘═══════╧═════════════╧═══════════╛\n"
          ]
        }
      ]
    }
  ]
}
